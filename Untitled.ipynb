{
 "cells": [
  {
   "cell_type": "code",
   "execution_count": 1,
   "metadata": {},
   "outputs": [],
   "source": [
    "#!jupyter nbextension enable --py --sys-prefix widgetsnbextension\n",
    "#!jupyter nbextension enable --py --sys-prefix qgrid\n",
    "#!jupyter nbextension enable --py --sys-prefix ipydatagrid\n",
    "\n",
    "from bs4 import BeautifulSoup\n",
    "import re\n",
    "import requests\n",
    "import pandas as pd\n",
    "import ipywidgets as widgets\n",
    "from ipydatagrid import DataGrid\n",
    "import numpy as np"
   ]
  },
  {
   "cell_type": "code",
   "execution_count": 2,
   "metadata": {},
   "outputs": [],
   "source": [
    "url = \"https://www.britishorienteering.org.uk/index.php?pg=results&perpage=100\"\n",
    "r = requests.get(url)\n",
    "parsed_html = BeautifulSoup(r.content)"
   ]
  },
  {
   "cell_type": "code",
   "execution_count": 3,
   "metadata": {},
   "outputs": [
    {
     "name": "stdout",
     "output_type": "stream",
     "text": [
      "[82011, 81290, 81692, 79136, 77352, 77368, 81828, 79784, 81109, 78835, 77351, 81717, 77367, 81740, 80886, 81773, 80248, 78228, 81583, 81878, 81389, 81739, 81495, 81288, 78227, 80795, 80611, 80619, 81659, 80902, 78874, 80940, 79927, 80452, 80725, 79472, 79471, 80510, 81022, 80299, 81359, 80148, 79721, 77420, 78776, 77419, 78775, 80917, 78873, 80018, 81647, 80658, 81494, 81252, 81766, 79785, 80323, 81357, 80885, 81658, 80570, 78872, 79727, 81632, 81646, 80880, 81854, 79355, 81710, 80024, 78789, 81191, 78788, 79354, 80298, 78787, 81473, 81771, 81645, 81317, 80643, 81472, 80767, 80768, 81299, 80083, 81279, 81644, 80774, 80773, 81769, 80321, 80772, 80771, 79921, 81316, 81184, 79926, 80594, 81761]\n"
     ]
    }
   ],
   "source": [
    "resrows = []\n",
    "eventnums = []\n",
    "for row in parsed_html.find_all(\"tr\"):\n",
    "    if len(row.find_all(\"td\"))==7:\n",
    "        resrows.append([ro.string for ro in row.find_all(\"td\")])\n",
    "        try:\n",
    "                eventnums.append(int(str(row.find_all(\"td\")[6])[44:49]))\n",
    "        except Exception:\n",
    "                pass\n",
    "results = pd.DataFrame(resrows)[[0,2,4,5]]\n",
    "results.columns = [\"Date\",\"Club\",\"Event\",\"Location\"]\n",
    "dgevents = DataGrid(results,\n",
    "        header_visibility='column',\n",
    "        column_widths={'Date':80,'Club':75,'Event':250,'Location':170},\n",
    "        selection_mode='cell')"
   ]
  },
  {
   "cell_type": "code",
   "execution_count": 4,
   "metadata": {},
   "outputs": [],
   "source": [
    "#eventno = 80018\n",
    "def getResults(eventno):\n",
    "    url = \"https://www.britishorienteering.org.uk/index.php?pg=results&eday=\" + str(eventno) + \"&results=\" + str(eventno)\n",
    "    r = requests.get(url)\n",
    "    parsed_html = BeautifulSoup(r.content)\n",
    "    courselinks = [url]\n",
    "    coursenames = dict()\n",
    "    for link in parsed_html.find_all(\"a\"):\n",
    "        if link.get(\"href\").startswith(\"/index.php\"):\n",
    "            courselinks.append(\"https://www.britishorienteering.org.uk\"+link.get(\"href\"))\n",
    "            coursenames[\"https://www.britishorienteering.org.uk\"+link.get(\"href\")] = link.string\n",
    "    if len(courselinks)>1:\n",
    "        r = requests.get(courselinks[1])\n",
    "        parsed_html = BeautifulSoup(r.content)\n",
    "        for link in parsed_html.find_all(\"a\"):\n",
    "            if link.get(\"href\").startswith(\"/index.php\"):\n",
    "                if link.string not in coursenames.values():\n",
    "                    coursenames[url] = link.string\n",
    "    allcourses = []\n",
    "    for courselink in courselinks:\n",
    "        r = requests.get(courselink)\n",
    "        parsed_html = BeautifulSoup(r.content)\n",
    "        resrows = []\n",
    "        for row in parsed_html.find_all(\"tr\"):\n",
    "            if len(row.find_all(\"td\"))==7:\n",
    "                resrows.append([ro.string for ro in row.find_all(\"td\")])\n",
    "        results = pd.DataFrame(resrows)\n",
    "        results.columns = [\"pos\",\"name\",\"club\",\"sex\",\"yob\",\"time\",\"pts\"]\n",
    "        results[\"age\"]=2022-pd.to_numeric(results[\"yob\"])\n",
    "        timeTaken=pd.to_datetime(results.time,format=\"%H:%M:%S\")\n",
    "        hr=np.array([t.hour for t in timeTaken.dt.time])\n",
    "        mi=np.array([t.minute for t in timeTaken.dt.time])\n",
    "        se=np.array([t.second for t in timeTaken.dt.time])\n",
    "        results[\"time\"]=60*hr+mi+1/60.0*se\n",
    "        results[\"course\"]=coursenames[courselink]\n",
    "        allcourses.append(results)\n",
    "    return pd.concat(allcourses)[['course','pos','name','club','time','sex','age']]"
   ]
  },
  {
   "cell_type": "code",
   "execution_count": 5,
   "metadata": {},
   "outputs": [],
   "source": [
    "dg = DataGrid(pd.DataFrame(columns=['course','pos','name','club','time','sex','age']),\n",
    "        header_visibility='column',\n",
    "        column_widths={'pos':50,'name':200,'sex':50,'time':60},\n",
    "        selection_mode='cell')"
   ]
  },
  {
   "cell_type": "code",
   "execution_count": 26,
   "metadata": {},
   "outputs": [],
   "source": [
    "#qgrid.set_grid_option('maxVisibleRows', 10)\n",
    "#col_opts = {'editable': False}\n",
    "#qgrid_widget = qgrid.show_grid(allcourses[0], show_toolbar=False, column_options=col_opts,column_definitions={ 'index': { 'maxWidth': 0, 'minWidth': 0, 'width': 0 } })\n",
    "#qgrid_widget.layout = widgets.Layout(width='920px')\n",
    "#qgrid.show_grid(pd.concat(allcourses), show_toolbar=False, column_options=col_opts,column_definitions={ 'index': { 'maxWidth': 0, 'minWidth': 0, 'width': 0 } })"
   ]
  },
  {
   "cell_type": "code",
   "execution_count": 6,
   "metadata": {},
   "outputs": [
    {
     "data": {
      "application/vnd.jupyter.widget-view+json": {
       "model_id": "055ca48e779549989caf613983bbfdf6",
       "version_major": 2,
       "version_minor": 0
      },
      "text/plain": [
       "HBox(children=(DataGrid(auto_fit_params={'area': 'all', 'padding': 30, 'numCols': None}, column_widths={'Date'…"
      ]
     },
     "metadata": {},
     "output_type": "display_data"
    }
   ],
   "source": [
    "widgets.HBox(\n",
    "    [dgevents,dg]\n",
    ")"
   ]
  },
  {
   "cell_type": "code",
   "execution_count": 7,
   "metadata": {},
   "outputs": [],
   "source": [
    "def display_cells(d):\n",
    "    eventResults = getResults(eventnums[d['row']])\n",
    "    dg.data = eventResults\n",
    "dgevents.on_cell_click(display_cells)"
   ]
  },
  {
   "cell_type": "code",
   "execution_count": null,
   "metadata": {},
   "outputs": [],
   "source": []
  }
 ],
 "metadata": {
  "kernelspec": {
   "display_name": "Python 3",
   "language": "python",
   "name": "python3"
  },
  "language_info": {
   "codemirror_mode": {
    "name": "ipython",
    "version": 3
   },
   "file_extension": ".py",
   "mimetype": "text/x-python",
   "name": "python",
   "nbconvert_exporter": "python",
   "pygments_lexer": "ipython3",
   "version": "3.8.5"
  }
 },
 "nbformat": 4,
 "nbformat_minor": 4
}
